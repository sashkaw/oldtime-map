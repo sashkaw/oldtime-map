{
 "cells": [
  {
   "cell_type": "code",
   "execution_count": 1,
   "metadata": {},
   "outputs": [
    {
     "name": "stderr",
     "output_type": "stream",
     "text": [
      "/Users/sashkawarner/repos/oldtime-map/venv/lib/python3.9/site-packages/tqdm/auto.py:21: TqdmWarning: IProgress not found. Please update jupyter and ipywidgets. See https://ipywidgets.readthedocs.io/en/stable/user_install.html\n",
      "  from .autonotebook import tqdm as notebook_tqdm\n",
      "2023-03-21 20:44:56.097254: I tensorflow/core/platform/cpu_feature_guard.cc:193] This TensorFlow binary is optimized with oneAPI Deep Neural Network Library (oneDNN) to use the following CPU instructions in performance-critical operations:  AVX2 FMA\n",
      "To enable them in other operations, rebuild TensorFlow with the appropriate compiler flags.\n"
     ]
    }
   ],
   "source": [
    "import re\n",
    "import numpy as np\n",
    "import pandas as pd\n",
    "import geopandas as gpd\n",
    "import fiona\n",
    "import folium\n",
    "from folium.plugins import Geocoder\n",
    "from transformers import pipeline"
   ]
  },
  {
   "cell_type": "code",
   "execution_count": 4,
   "metadata": {},
   "outputs": [
    {
     "data": {
      "text/html": [
       "<div>\n",
       "<style scoped>\n",
       "    .dataframe tbody tr th:only-of-type {\n",
       "        vertical-align: middle;\n",
       "    }\n",
       "\n",
       "    .dataframe tbody tr th {\n",
       "        vertical-align: top;\n",
       "    }\n",
       "\n",
       "    .dataframe thead th {\n",
       "        text-align: right;\n",
       "    }\n",
       "</style>\n",
       "<table border=\"1\" class=\"dataframe\">\n",
       "  <thead>\n",
       "    <tr style=\"text-align: right;\">\n",
       "      <th></th>\n",
       "      <th>Name</th>\n",
       "      <th>Description</th>\n",
       "      <th>geometry</th>\n",
       "    </tr>\n",
       "  </thead>\n",
       "  <tbody>\n",
       "    <tr>\n",
       "      <th>0</th>\n",
       "      <td>*Fairhope, AL</td>\n",
       "      <td>Jam n Folks meet every Tuesday (unless we are ...</td>\n",
       "      <td>POINT Z (-87.90006 30.52789 0.00000)</td>\n",
       "    </tr>\n",
       "    <tr>\n",
       "      <th>1</th>\n",
       "      <td>*Anchorage, AK</td>\n",
       "      <td>Currently on hold&lt;br&gt;Irish session&lt;br&gt;Thursday...</td>\n",
       "      <td>POINT Z (-149.90654 61.19747 0.00000)</td>\n",
       "    </tr>\n",
       "    <tr>\n",
       "      <th>2</th>\n",
       "      <td>*Ester, AK</td>\n",
       "      <td>The Golden Eagle Saloon&lt;br&gt;3630 Main St, Ester...</td>\n",
       "      <td>POINT Z (-148.01637 64.84680 0.00000)</td>\n",
       "    </tr>\n",
       "    <tr>\n",
       "      <th>3</th>\n",
       "      <td>Fairbanks, AK</td>\n",
       "      <td>This jam is Zoom only until further notice.   ...</td>\n",
       "      <td>POINT Z (-147.77080 64.83923 0.00000)</td>\n",
       "    </tr>\n",
       "    <tr>\n",
       "      <th>4</th>\n",
       "      <td>*Fairbanks, AK</td>\n",
       "      <td>Irish Session                                 ...</td>\n",
       "      <td>POINT Z (-147.71441 64.85332 0.00000)</td>\n",
       "    </tr>\n",
       "  </tbody>\n",
       "</table>\n",
       "</div>"
      ],
      "text/plain": [
       "             Name                                        Description  \\\n",
       "0   *Fairhope, AL  Jam n Folks meet every Tuesday (unless we are ...   \n",
       "1  *Anchorage, AK  Currently on hold<br>Irish session<br>Thursday...   \n",
       "2      *Ester, AK  The Golden Eagle Saloon<br>3630 Main St, Ester...   \n",
       "3   Fairbanks, AK  This jam is Zoom only until further notice.   ...   \n",
       "4  *Fairbanks, AK  Irish Session                                 ...   \n",
       "\n",
       "                                geometry  \n",
       "0   POINT Z (-87.90006 30.52789 0.00000)  \n",
       "1  POINT Z (-149.90654 61.19747 0.00000)  \n",
       "2  POINT Z (-148.01637 64.84680 0.00000)  \n",
       "3  POINT Z (-147.77080 64.83923 0.00000)  \n",
       "4  POINT Z (-147.71441 64.85332 0.00000)  "
      ]
     },
     "execution_count": 4,
     "metadata": {},
     "output_type": "execute_result"
    }
   ],
   "source": [
    "# Read in kml file of oldtime music gatherings\n",
    "fiona.supported_drivers['KML'] = 'rw'\n",
    "raw_points = gpd.read_file(\"./Old Time Open Jams.kml\", driver=\"KML\")\n",
    "raw_points.head()"
   ]
  },
  {
   "cell_type": "code",
   "execution_count": 5,
   "metadata": {},
   "outputs": [
    {
     "data": {
      "text/plain": [
       "Name                                               *Brooklyn, NY\n",
       "Description    Dear Friends,<br>Like many people, due to the ...\n",
       "geometry                      POINT Z (-74.0169398 40.6756909 0)\n",
       "Name: 470, dtype: object"
      ]
     },
     "execution_count": 5,
     "metadata": {},
     "output_type": "execute_result"
    }
   ],
   "source": [
    "raw_points.iloc[470,:]"
   ]
  },
  {
   "cell_type": "code",
   "execution_count": 6,
   "metadata": {},
   "outputs": [],
   "source": [
    "raw_points.to_csv(\"oldtime.csv\")"
   ]
  },
  {
   "cell_type": "code",
   "execution_count": 13,
   "metadata": {},
   "outputs": [
    {
     "data": {
      "text/plain": [
       "\"Fiddler's Picnic. 3 day event, first weekend in August.<br>Aug 4-6, 2023<br>https://www.facebook.com/Montana-Old-Time-Fiddlers-Picnic-403947783036154/?<br><br>Updated CR 1/2/23\""
      ]
     },
     "execution_count": 13,
     "metadata": {},
     "output_type": "execute_result"
    }
   ],
   "source": [
    "raw_points[raw_points[\"Description\"].str.contains(\"picnic\", case=False)].iloc[8][\"Description\"]"
   ]
  },
  {
   "cell_type": "code",
   "execution_count": 2,
   "metadata": {},
   "outputs": [
    {
     "name": "stderr",
     "output_type": "stream",
     "text": [
      "No model was supplied, defaulted to roberta-large-mnli and revision 130fb28 (https://huggingface.co/roberta-large-mnli).\n",
      "Using a pipeline without specifying a model name and revision in production is not recommended.\n",
      "Downloading (…)lve/main/config.json: 100%|██████████| 688/688 [00:00<00:00, 76.3kB/s]\n",
      "Downloading tf_model.h5: 100%|██████████| 1.43G/1.43G [01:20<00:00, 17.8MB/s]\n",
      "2023-03-21 20:46:34.350792: I tensorflow/core/platform/cpu_feature_guard.cc:193] This TensorFlow binary is optimized with oneAPI Deep Neural Network Library (oneDNN) to use the following CPU instructions in performance-critical operations:  AVX2 FMA\n",
      "To enable them in other operations, rebuild TensorFlow with the appropriate compiler flags.\n",
      "All model checkpoint layers were used when initializing TFRobertaForSequenceClassification.\n",
      "\n",
      "All the layers of TFRobertaForSequenceClassification were initialized from the model checkpoint at roberta-large-mnli.\n",
      "If your task is similar to the task the model of the checkpoint was trained on, you can already use TFRobertaForSequenceClassification for predictions without further training.\n",
      "Downloading (…)olve/main/vocab.json: 100%|██████████| 899k/899k [00:00<00:00, 1.95MB/s]\n",
      "Downloading (…)olve/main/merges.txt: 100%|██████████| 456k/456k [00:00<00:00, 1.24MB/s]\n",
      "Downloading (…)/main/tokenizer.json: 100%|██████████| 1.36M/1.36M [00:00<00:00, 2.71MB/s]\n"
     ]
    },
    {
     "data": {
      "text/plain": [
       "{'sequence': 'We meet every two weeks',\n",
       " 'labels': ['weekly gathering', 'annual event'],\n",
       " 'scores': [0.9827330112457275, 0.017267024144530296]}"
      ]
     },
     "execution_count": 2,
     "metadata": {},
     "output_type": "execute_result"
    }
   ],
   "source": [
    "# Takes 2 min to download\n",
    "classifier = pipeline(\"zero-shot-classification\")\n",
    "#classifier(\"We meet every two weeks\", candidate_labels=[\"weekly gathering\", \"annual event\"])"
   ]
  },
  {
   "cell_type": "code",
   "execution_count": 14,
   "metadata": {},
   "outputs": [
    {
     "data": {
      "text/plain": [
       "{'sequence': \"Fiddler's Picnic. 3 day event, first weekend in August.<br>Aug 4-6, 2023<br>https://www.facebook.com/Montana-Old-Time-Fiddlers-Picnic-403947783036154/?<br><br>Updated CR 1/2/23\",\n",
       " 'labels': ['annual event', 'weekly gathering'],\n",
       " 'scores': [0.5418637990951538, 0.4581362009048462]}"
      ]
     },
     "execution_count": 14,
     "metadata": {},
     "output_type": "execute_result"
    }
   ],
   "source": [
    "test = \"Fiddler's Picnic. 3 day event, first weekend in August.<br>Aug 4-6, 2023<br>https://www.facebook.com/Montana-Old-Time-Fiddlers-Picnic-403947783036154/?<br><br>Updated CR 1/2/23\"\n",
    "classifier(test, candidate_labels=[\"weekly gathering\", \"annual event\"])"
   ]
  },
  {
   "cell_type": "code",
   "execution_count": 10,
   "metadata": {},
   "outputs": [
    {
     "name": "stdout",
     "output_type": "stream",
     "text": [
      "Number of gatherings: 1156\n",
      "weekly gathering\n"
     ]
    },
    {
     "data": {
      "text/plain": [
       "'# Get first section of text before line break\\noldtime_events[\"header\"] = oldtime_events[\"Description\"].str.replace(\"(?<=<br>).*\", \"\")\\n\\n# Add category column\\noldtime_events[\"category\"] = [np.nan] * oldtime_events.shape[0]\\n\\n# Select specific types of events\\n# and categorize\\njam_q = oldtime_events[\"header\"].str.contains(\"jam|session\", case=False)\\nfestival_q = (oldtime_events[\"header\"].str.contains(\"fest|festival(?!s)|competition|contest|annual|gathering|(oldtime|old-time) social|camp(?=(\\\\s|<br>|out))|class(?=(\\\\s|es))|music school\", case=False) | oldtime_events[\"Description\"].str.contains(\"workshop(?=(\\\\s|s))\", case=False)) & ~jam_q\\nfestivals = oldtime_events[\"header\"][festival_q]\\noldtime_events.loc[festival_q, \"category\"] = \"festival_or_camp\"\\n\\n# Assume jams represent everything left over - this seems to be true based on EDA\\njam_q = ~festival_q\\njams = oldtime_events[\"header\"][jam_q]\\noldtime_events.loc[jam_q, \"category\"] = \"jam\"\\n\\n# Check number of elements in each category\\nprint(\"Number of jams: %d\" % jams.shape[0])\\nprint(\"Number of festivals/camps: %d\" % festivals.shape[0])'"
      ]
     },
     "execution_count": 10,
     "metadata": {},
     "output_type": "execute_result"
    }
   ],
   "source": [
    "# Filter out non-oldtime gatherings\n",
    "oldtime_events = raw_points.copy()\n",
    "oldtime_events = oldtime_events[~oldtime_events[\"Description\"].str.contains(\"irish|celtic|scottish\", case=False)]\n",
    "print(\"Number of gatherings: %d\" % oldtime_events.shape[0])\n",
    "def classify_event(text):\n",
    "    labels = [\"weekly gathering\", \"annual event\"]\n",
    "    probs = classifier(text, candidate_labels=labels)\n",
    "    clf = labels[np.argmax(probs)]\n",
    "    return clf\n",
    "\n",
    "print(classify_event(oldtime_events[\"Description\"].iloc[0]))\n",
    "\n",
    "'''# Get first section of text before line break\n",
    "oldtime_events[\"header\"] = oldtime_events[\"Description\"].str.replace(\"(?<=<br>).*\", \"\")\n",
    "\n",
    "# Add category column\n",
    "oldtime_events[\"category\"] = [np.nan] * oldtime_events.shape[0]\n",
    "\n",
    "# Select specific types of events\n",
    "# and categorize\n",
    "jam_q = oldtime_events[\"header\"].str.contains(\"jam|session\", case=False)\n",
    "festival_q = (oldtime_events[\"header\"].str.contains(\"fest|festival(?!s)|competition|contest|annual|gathering|(oldtime|old-time) social|camp(?=(\\s|<br>|out))|class(?=(\\s|es))|music school\", case=False) | oldtime_events[\"Description\"].str.contains(\"workshop(?=(\\s|s))\", case=False)) & ~jam_q\n",
    "festivals = oldtime_events[\"header\"][festival_q]\n",
    "oldtime_events.loc[festival_q, \"category\"] = \"festival_or_camp\"\n",
    "\n",
    "# Assume jams represent everything left over - this seems to be true based on EDA\n",
    "jam_q = ~festival_q\n",
    "jams = oldtime_events[\"header\"][jam_q]\n",
    "oldtime_events.loc[jam_q, \"category\"] = \"jam\"\n",
    "\n",
    "# Check number of elements in each category\n",
    "print(\"Number of jams: %d\" % jams.shape[0])\n",
    "print(\"Number of festivals/camps: %d\" % festivals.shape[0])'''\n",
    "\n",
    "#print(\"NAs in category row: %d\" % sum(oldtime_events[\"category\"].isna()))"
   ]
  },
  {
   "cell_type": "code",
   "execution_count": null,
   "metadata": {},
   "outputs": [],
   "source": [
    "for i in range(festivals.shape[0]):\n",
    "    print(festivals.iloc[i])\n",
    "    print('\\n')"
   ]
  },
  {
   "cell_type": "code",
   "execution_count": null,
   "metadata": {},
   "outputs": [],
   "source": [
    "for i in range(jams.shape[0]):\n",
    "    print(jams.iloc[i])\n",
    "    print('\\n')"
   ]
  },
  {
   "cell_type": "code",
   "execution_count": null,
   "metadata": {},
   "outputs": [],
   "source": [
    "# Create new folium map\n",
    "m = folium.Map(location=[47.116386, -101.299591], zoom_start = 4)\n",
    "\n",
    "# Create feature groups\n",
    "jam_fg = folium.FeatureGroup(name=\"Jams\")\n",
    "festivals_fg = folium.FeatureGroup(name=\"Festivals / Camps\")\n",
    "\n",
    "# Create markers for each category and add to feature groups - color code\n",
    "for i in range(oldtime_events.shape[0]):\n",
    "    geom = oldtime_events[\"geometry\"].iloc[i]\n",
    "    name = oldtime_events[\"Name\"].iloc[i]\n",
    "    desc = oldtime_events[\"Description\"].iloc[i]\n",
    "    if(oldtime_events[\"category\"].iloc[i] == \"jam\"):\n",
    "        marker = folium.Marker(location=[geom.y, geom.x], popup=desc, icon=folium.Icon(color=\"green\")).add_to(jam_fg)\n",
    "    elif(oldtime_events[\"category\"].iloc[i] == \"festival_or_camp\"):\n",
    "        marker = folium.Marker(location=[geom.y, geom.x], popup=desc, icon=folium.Icon(color=\"red\")).add_to(festivals_fg)\n",
    "\n",
    "# Add feature group to map\n",
    "jam_fg.add_to(m)\n",
    "festivals_fg.add_to(m)\n",
    "\n",
    "# Add layer control to map\n",
    "m.add_child(folium.map.LayerControl())"
   ]
  },
  {
   "cell_type": "code",
   "execution_count": null,
   "metadata": {},
   "outputs": [],
   "source": [
    "Geocoder().add_to(m)\n",
    "m"
   ]
  },
  {
   "cell_type": "code",
   "execution_count": null,
   "metadata": {},
   "outputs": [],
   "source": [
    "#m.save(\"Old Time Gatherings.html\")"
   ]
  },
  {
   "cell_type": "code",
   "execution_count": null,
   "metadata": {},
   "outputs": [],
   "source": []
  }
 ],
 "metadata": {
  "kernelspec": {
   "display_name": "venv",
   "language": "python",
   "name": "python3"
  },
  "language_info": {
   "codemirror_mode": {
    "name": "ipython",
    "version": 3
   },
   "file_extension": ".py",
   "mimetype": "text/x-python",
   "name": "python",
   "nbconvert_exporter": "python",
   "pygments_lexer": "ipython3",
   "version": "3.9.13"
  },
  "orig_nbformat": 4
 },
 "nbformat": 4,
 "nbformat_minor": 2
}
