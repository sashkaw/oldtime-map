{
 "cells": [
  {
   "cell_type": "code",
   "execution_count": 89,
   "metadata": {},
   "outputs": [],
   "source": [
    "import re\n",
    "import numpy as np\n",
    "import pandas as pd\n",
    "import geopandas as gpd\n",
    "import fiona\n",
    "import folium\n",
    "from folium.plugins import Geocoder\n",
    "from transformers import pipeline\n",
    "import spacy\n",
    "import dateparser\n",
    "from datetime import datetime"
   ]
  },
  {
   "cell_type": "code",
   "execution_count": 76,
   "metadata": {},
   "outputs": [],
   "source": [
    "# Note - need to get spacy from hugging face\n",
    "nlp = spacy.load(\"en_core_web_sm\")"
   ]
  },
  {
   "cell_type": "code",
   "execution_count": 4,
   "metadata": {},
   "outputs": [
    {
     "data": {
      "text/html": [
       "<div>\n",
       "<style scoped>\n",
       "    .dataframe tbody tr th:only-of-type {\n",
       "        vertical-align: middle;\n",
       "    }\n",
       "\n",
       "    .dataframe tbody tr th {\n",
       "        vertical-align: top;\n",
       "    }\n",
       "\n",
       "    .dataframe thead th {\n",
       "        text-align: right;\n",
       "    }\n",
       "</style>\n",
       "<table border=\"1\" class=\"dataframe\">\n",
       "  <thead>\n",
       "    <tr style=\"text-align: right;\">\n",
       "      <th></th>\n",
       "      <th>Name</th>\n",
       "      <th>Description</th>\n",
       "      <th>geometry</th>\n",
       "    </tr>\n",
       "  </thead>\n",
       "  <tbody>\n",
       "    <tr>\n",
       "      <th>0</th>\n",
       "      <td>*Fairhope, AL</td>\n",
       "      <td>Jam n Folks meet every Tuesday (unless we are ...</td>\n",
       "      <td>POINT Z (-87.90006 30.52789 0.00000)</td>\n",
       "    </tr>\n",
       "    <tr>\n",
       "      <th>1</th>\n",
       "      <td>*Anchorage, AK</td>\n",
       "      <td>Currently on hold&lt;br&gt;Irish session&lt;br&gt;Thursday...</td>\n",
       "      <td>POINT Z (-149.90654 61.19747 0.00000)</td>\n",
       "    </tr>\n",
       "    <tr>\n",
       "      <th>2</th>\n",
       "      <td>*Ester, AK</td>\n",
       "      <td>The Golden Eagle Saloon&lt;br&gt;3630 Main St, Ester...</td>\n",
       "      <td>POINT Z (-148.01637 64.84680 0.00000)</td>\n",
       "    </tr>\n",
       "    <tr>\n",
       "      <th>3</th>\n",
       "      <td>Fairbanks, AK</td>\n",
       "      <td>This jam is Zoom only until further notice.   ...</td>\n",
       "      <td>POINT Z (-147.77080 64.83923 0.00000)</td>\n",
       "    </tr>\n",
       "    <tr>\n",
       "      <th>4</th>\n",
       "      <td>*Fairbanks, AK</td>\n",
       "      <td>Irish Session                                 ...</td>\n",
       "      <td>POINT Z (-147.71441 64.85332 0.00000)</td>\n",
       "    </tr>\n",
       "  </tbody>\n",
       "</table>\n",
       "</div>"
      ],
      "text/plain": [
       "             Name                                        Description  \\\n",
       "0   *Fairhope, AL  Jam n Folks meet every Tuesday (unless we are ...   \n",
       "1  *Anchorage, AK  Currently on hold<br>Irish session<br>Thursday...   \n",
       "2      *Ester, AK  The Golden Eagle Saloon<br>3630 Main St, Ester...   \n",
       "3   Fairbanks, AK  This jam is Zoom only until further notice.   ...   \n",
       "4  *Fairbanks, AK  Irish Session                                 ...   \n",
       "\n",
       "                                geometry  \n",
       "0   POINT Z (-87.90006 30.52789 0.00000)  \n",
       "1  POINT Z (-149.90654 61.19747 0.00000)  \n",
       "2  POINT Z (-148.01637 64.84680 0.00000)  \n",
       "3  POINT Z (-147.77080 64.83923 0.00000)  \n",
       "4  POINT Z (-147.71441 64.85332 0.00000)  "
      ]
     },
     "execution_count": 4,
     "metadata": {},
     "output_type": "execute_result"
    }
   ],
   "source": [
    "# Read in kml file of oldtime music gatherings\n",
    "fiona.supported_drivers['KML'] = 'rw'\n",
    "raw_points = gpd.read_file(\"./Old Time Open Jams.kml\", driver=\"KML\")\n",
    "raw_points.head()"
   ]
  },
  {
   "cell_type": "code",
   "execution_count": 5,
   "metadata": {},
   "outputs": [
    {
     "data": {
      "text/plain": [
       "Name                                               *Brooklyn, NY\n",
       "Description    Dear Friends,<br>Like many people, due to the ...\n",
       "geometry                      POINT Z (-74.0169398 40.6756909 0)\n",
       "Name: 470, dtype: object"
      ]
     },
     "execution_count": 5,
     "metadata": {},
     "output_type": "execute_result"
    }
   ],
   "source": [
    "raw_points.iloc[470,:]"
   ]
  },
  {
   "cell_type": "code",
   "execution_count": 6,
   "metadata": {},
   "outputs": [],
   "source": [
    "raw_points.to_csv(\"oldtime.csv\")"
   ]
  },
  {
   "cell_type": "code",
   "execution_count": 35,
   "metadata": {},
   "outputs": [
    {
     "data": {
      "text/plain": [
       "\"93rd Annual Old Fiddler's Picnic<br>A Celebration of Music ~ A Reunion of Friends<br>No date set yet for 2023.<br>Join hundreds of musicians and music lovers to celebrate the 93rd Annual Chester County Old Fiddler's Picnic.<br><br> Hibernia Park <br> Gates open at 8:30 AM<br> Stage registration begins at 9 AM<br> Free Admission and Free Parking<br><br>https://www.chesco.org/2415/Old-Fiddlers-Picnic<br><br>JS 8/24/22\""
      ]
     },
     "execution_count": 35,
     "metadata": {},
     "output_type": "execute_result"
    }
   ],
   "source": [
    "raw_points[raw_points[\"Description\"].str.contains(\"picnic\", case=False)].iloc[7][\"Description\"]"
   ]
  },
  {
   "cell_type": "code",
   "execution_count": 2,
   "metadata": {},
   "outputs": [
    {
     "name": "stderr",
     "output_type": "stream",
     "text": [
      "No model was supplied, defaulted to roberta-large-mnli and revision 130fb28 (https://huggingface.co/roberta-large-mnli).\n",
      "Using a pipeline without specifying a model name and revision in production is not recommended.\n",
      "Downloading (…)lve/main/config.json: 100%|██████████| 688/688 [00:00<00:00, 76.3kB/s]\n",
      "Downloading tf_model.h5: 100%|██████████| 1.43G/1.43G [01:20<00:00, 17.8MB/s]\n",
      "2023-03-21 20:46:34.350792: I tensorflow/core/platform/cpu_feature_guard.cc:193] This TensorFlow binary is optimized with oneAPI Deep Neural Network Library (oneDNN) to use the following CPU instructions in performance-critical operations:  AVX2 FMA\n",
      "To enable them in other operations, rebuild TensorFlow with the appropriate compiler flags.\n",
      "All model checkpoint layers were used when initializing TFRobertaForSequenceClassification.\n",
      "\n",
      "All the layers of TFRobertaForSequenceClassification were initialized from the model checkpoint at roberta-large-mnli.\n",
      "If your task is similar to the task the model of the checkpoint was trained on, you can already use TFRobertaForSequenceClassification for predictions without further training.\n",
      "Downloading (…)olve/main/vocab.json: 100%|██████████| 899k/899k [00:00<00:00, 1.95MB/s]\n",
      "Downloading (…)olve/main/merges.txt: 100%|██████████| 456k/456k [00:00<00:00, 1.24MB/s]\n",
      "Downloading (…)/main/tokenizer.json: 100%|██████████| 1.36M/1.36M [00:00<00:00, 2.71MB/s]\n"
     ]
    },
    {
     "data": {
      "text/plain": [
       "{'sequence': 'We meet every two weeks',\n",
       " 'labels': ['weekly gathering', 'annual event'],\n",
       " 'scores': [0.9827330112457275, 0.017267024144530296]}"
      ]
     },
     "execution_count": 2,
     "metadata": {},
     "output_type": "execute_result"
    }
   ],
   "source": [
    "# Takes 2 min to download\n",
    "classifier = pipeline(\"zero-shot-classification\")\n",
    "#classifier(\"We meet every two weeks\", candidate_labels=[\"weekly gathering\", \"annual event\"])"
   ]
  },
  {
   "cell_type": "code",
   "execution_count": 14,
   "metadata": {},
   "outputs": [
    {
     "data": {
      "text/plain": [
       "{'sequence': \"Fiddler's Picnic. 3 day event, first weekend in August.<br>Aug 4-6, 2023<br>https://www.facebook.com/Montana-Old-Time-Fiddlers-Picnic-403947783036154/?<br><br>Updated CR 1/2/23\",\n",
       " 'labels': ['annual event', 'weekly gathering'],\n",
       " 'scores': [0.5418637990951538, 0.4581362009048462]}"
      ]
     },
     "execution_count": 14,
     "metadata": {},
     "output_type": "execute_result"
    }
   ],
   "source": [
    "test = \"Fiddler's Picnic. 3 day event, first weekend in August.<br>Aug 4-6, 2023<br>https://www.facebook.com/Montana-Old-Time-Fiddlers-Picnic-403947783036154/?<br><br>Updated CR 1/2/23\"\n",
    "classifier(test, candidate_labels=[\"weekly gathering\", \"annual event\"])"
   ]
  },
  {
   "cell_type": "code",
   "execution_count": 16,
   "metadata": {},
   "outputs": [
    {
     "name": "stderr",
     "output_type": "stream",
     "text": [
      "No model was supplied, defaulted to distilbert-base-cased-distilled-squad and revision 626af31 (https://huggingface.co/distilbert-base-cased-distilled-squad).\n",
      "Using a pipeline without specifying a model name and revision in production is not recommended.\n",
      "Downloading (…)lve/main/config.json: 100%|██████████| 473/473 [00:00<00:00, 54.5kB/s]\n",
      "Downloading tf_model.h5: 100%|██████████| 261M/261M [00:22<00:00, 11.8MB/s] \n",
      "Some layers from the model checkpoint at distilbert-base-cased-distilled-squad were not used when initializing TFDistilBertForQuestionAnswering: ['dropout_19']\n",
      "- This IS expected if you are initializing TFDistilBertForQuestionAnswering from the checkpoint of a model trained on another task or with another architecture (e.g. initializing a BertForSequenceClassification model from a BertForPreTraining model).\n",
      "- This IS NOT expected if you are initializing TFDistilBertForQuestionAnswering from the checkpoint of a model that you expect to be exactly identical (initializing a BertForSequenceClassification model from a BertForSequenceClassification model).\n",
      "Some layers of TFDistilBertForQuestionAnswering were not initialized from the model checkpoint at distilbert-base-cased-distilled-squad and are newly initialized: ['dropout_93']\n",
      "You should probably TRAIN this model on a down-stream task to be able to use it for predictions and inference.\n",
      "Downloading (…)okenizer_config.json: 100%|██████████| 29.0/29.0 [00:00<00:00, 4.57kB/s]\n",
      "Downloading (…)solve/main/vocab.txt: 100%|██████████| 213k/213k [00:00<00:00, 767kB/s]\n",
      "Downloading (…)/main/tokenizer.json: 100%|██████████| 436k/436k [00:00<00:00, 1.15MB/s]\n"
     ]
    }
   ],
   "source": [
    "question_answerer = pipeline(task=\"question-answering\")"
   ]
  },
  {
   "cell_type": "code",
   "execution_count": 38,
   "metadata": {},
   "outputs": [
    {
     "name": "stdout",
     "output_type": "stream",
     "text": [
      "score: 0.2999, start: 85, end: 92, answer: No date\n"
     ]
    }
   ],
   "source": [
    "test = \"Fiddler's Picnic. 3 day event, first weekend in August.<br>Aug 4-6, 2023<br>https://www.facebook.com/Montana-Old-Time-Fiddlers-Picnic-403947783036154/?<br><br>Updated CR 1/2/23\"\n",
    "test2 = \"93rd Annual Old Fiddler's Picnic<br>A Celebration of Music ~ A Reunion of Friends<br>No date set yet for 2023.<br>Join hundreds of musicians and music lovers to celebrate the 93rd Annual Chester County Old Fiddler's Picnic.<br><br> Hibernia Park <br> Gates open at 8:30 AM<br> Stage registration begins at 9 AM<br> Free Admission and Free Parking<br><br>https://www.chesco.org/2415/Old-Fiddlers-Picnic<br><br>JS 8/24/22\"\n",
    "preds = question_answerer(\n",
    "    question=\"What date(s) does this event take place in 2023?\",\n",
    "    context=test2\n",
    ")\n",
    "print(\n",
    "    f\"score: {round(preds['score'], 4)}, start: {preds['start']}, end: {preds['end']}, answer: {preds['answer']}\"\n",
    ")"
   ]
  },
  {
   "cell_type": "code",
   "execution_count": 58,
   "metadata": {},
   "outputs": [
    {
     "data": {
      "text/plain": [
       "'Jam n Folks meet every Tuesday (unless we are playing someplace) at the Nix Senior Center at 1 Bayou Drive ( a block and half east of North Section Street) in Fairhope. We practice from 9:00am to 12:00pm.<br><br>You can also chat with us at our Facebook page: https://www.facebook.com/groups/345412158921659/<br><br>Instrumentation in Jam n Folks includes mountain dulcimer, hammered dulcimer, mandolins, guitars, violins, viola, recorders, krumhorns, penny whistles, accordion and percussion as required. They have even let the webmaster of this site get away with bringing his soprano and baritone ukuleles. Grab your instrument of choice, come on over and play some tunes with us.\\xa0 \\xa0 \\xa0 \\xa0 \\xa0 \\xa0 \\xa0 \\xa0 \\xa0 \\xa0 \\xa0 \\xa0 \\xa0 \\xa0 \\xa0 \\xa0 \\xa0 \\xa0 \\xa0 \\xa0 \\xa0 \\xa0 \\xa0 \\xa0 \\xa0 \\xa0 \\xa0JS 11/30/21'"
      ]
     },
     "execution_count": 58,
     "metadata": {},
     "output_type": "execute_result"
    }
   ],
   "source": [
    "oldtime_events[\"Description\"].iloc[0]"
   ]
  },
  {
   "cell_type": "code",
   "execution_count": 147,
   "metadata": {},
   "outputs": [
    {
     "name": "stderr",
     "output_type": "stream",
     "text": [
      "No model was supplied, defaulted to dbmdz/bert-large-cased-finetuned-conll03-english and revision f2482bf (https://huggingface.co/dbmdz/bert-large-cased-finetuned-conll03-english).\n",
      "Using a pipeline without specifying a model name and revision in production is not recommended.\n",
      "Some layers from the model checkpoint at dbmdz/bert-large-cased-finetuned-conll03-english were not used when initializing TFBertForTokenClassification: ['dropout_147']\n",
      "- This IS expected if you are initializing TFBertForTokenClassification from the checkpoint of a model trained on another task or with another architecture (e.g. initializing a BertForSequenceClassification model from a BertForPreTraining model).\n",
      "- This IS NOT expected if you are initializing TFBertForTokenClassification from the checkpoint of a model that you expect to be exactly identical (initializing a BertForSequenceClassification model from a BertForSequenceClassification model).\n",
      "All the layers of TFBertForTokenClassification were initialized from the model checkpoint at dbmdz/bert-large-cased-finetuned-conll03-english.\n",
      "If your task is similar to the task the model of the checkpoint was trained on, you can already use TFBertForTokenClassification for predictions without further training.\n",
      "/Users/sashkawarner/repos/oldtime-map/venv/lib/python3.9/site-packages/transformers/pipelines/token_classification.py:157: UserWarning: `grouped_entities` is deprecated and will be removed in version v5.0.0, defaulted to `aggregation_strategy=\"simple\"` instead.\n",
      "  warnings.warn(\n"
     ]
    }
   ],
   "source": [
    "ner = pipeline(\"ner\", grouped_entities=True)"
   ]
  },
  {
   "cell_type": "code",
   "execution_count": 148,
   "metadata": {},
   "outputs": [
    {
     "name": "stdout",
     "output_type": "stream",
     "text": [
      "****ALL LEVELS - BLUEGRASS / OLD TIME COUNTRY/GOSPEL JAM****<br><br>Black Canyon City -High Desert Park<br>2nd Sunday's - Sept thru May<br>1pm-3:30-4pm<br>19001 Jacie Lane, Black Canyon City<br><br>Directions From Phoenix:<br>Take I-17 north and Exit at Rock Springs. Cross freeway to west side, turn north (rt) and follow to Jacie Ln (road at fire station on left), turn left and follow to top of hill. We'll be inside the only building up there. Dress light or in layers as it tends to get warm in there.<br><br>CR 11/2/\n",
      "Black Canyon City -High Desert Park LOC\n",
      "Sunday DATE\n",
      "Jacie Lane PERSON\n",
      "Black Canyon City LOC\n",
      "I-17 PRODUCT\n",
      "Exit at FAC\n",
      "Rock Springs FAC\n",
      "Jacie Ln PERSON\n",
      "11/2/ CARDINAL\n",
      "[{'entity_group': 'MISC', 'score': 0.37196904, 'word': 'B', 'start': 17, 'end': 18}, {'entity_group': 'LOC', 'score': 0.9785928, 'word': 'Black Canyon City', 'start': 68, 'end': 85}, {'entity_group': 'LOC', 'score': 0.9945238, 'word': 'High Desert Park', 'start': 87, 'end': 103}, {'entity_group': 'LOC', 'score': 0.8357585, 'word': 'Jacie Lane', 'start': 161, 'end': 171}, {'entity_group': 'LOC', 'score': 0.9908804, 'word': 'Black Canyon City', 'start': 173, 'end': 190}, {'entity_group': 'LOC', 'score': 0.9979469, 'word': 'Phoenix', 'start': 214, 'end': 221}, {'entity_group': 'MISC', 'score': 0.6007345, 'word': 'I', 'start': 231, 'end': 232}, {'entity_group': 'MISC', 'score': 0.45031035, 'word': '17', 'start': 233, 'end': 235}, {'entity_group': 'LOC', 'score': 0.99618495, 'word': 'Rock Springs', 'start': 254, 'end': 266}, {'entity_group': 'LOC', 'score': 0.8576531, 'word': 'Jacie L', 'start': 326, 'end': 333}]\n"
     ]
    }
   ],
   "source": [
    "doc = nlp(test)\n",
    "print(test)\n",
    "for ent in doc.ents:\n",
    "    print(ent, ent.label_)\n",
    "\n",
    "print(ner(test))"
   ]
  },
  {
   "cell_type": "code",
   "execution_count": 184,
   "metadata": {},
   "outputs": [
    {
     "name": "stdout",
     "output_type": "stream",
     "text": [
      "Number of gatherings: 1156\n",
      "Arizona Old Time Fiddlers<br>Tuesdays, 7-9pm<br>920 N Barkley, Mesa, AZ<br>Contact Crystal Shu 480-851-8362<br>crystalw86@hotmail.com<br>JS 11/30/\n"
     ]
    },
    {
     "name": "stderr",
     "output_type": "stream",
     "text": [
      "/var/folders/bx/8_p36bpd14nckr66rq2kk6kc0000gn/T/ipykernel_8606/1650095673.py:6: FutureWarning: The default value of regex will change from True to False in a future version.\n",
      "  oldtime_events[\"clean_desc\"] = oldtime_events[\"Description\"].str.replace(\"(\\d|\\\\|\\/|-|\\.)*$\", \"\")\n"
     ]
    },
    {
     "name": "stdout",
     "output_type": "stream",
     "text": [
      "('weekly gathering', 0.9308522343635559)\n",
      "('Tuesdays, 7-9pm', None, 0.87)\n"
     ]
    }
   ],
   "source": [
    "# Filter out non-oldtime gatherings\n",
    "oldtime_events = raw_points.copy()\n",
    "oldtime_events = oldtime_events[~oldtime_events[\"Description\"].str.contains(\"irish|celtic|scottish\", case=False)]\n",
    "print(\"Number of gatherings: %d\" % oldtime_events.shape[0])\n",
    "\n",
    "oldtime_events[\"clean_desc\"] = oldtime_events[\"Description\"].str.replace(\"(\\d|\\\\|\\/|-|\\.)*$\", \"\")\n",
    "\n",
    "test = oldtime_events[\"clean_desc\"].iloc[7]\n",
    "\n",
    "def classify_event(text: str) -> tuple[str, float]:\n",
    "    labels = [\"weekly gathering\", \"annual event\"]\n",
    "    probs = classifier(text, candidate_labels=labels)['scores']\n",
    "    clf = labels[np.argmax(probs)]\n",
    "    p = probs[np.argmax(probs)]\n",
    "    return clf, p\n",
    "\n",
    "def extract_date(text: str) -> tuple[str, datetime, float]:\n",
    "    preds = question_answerer(\n",
    "        question=\"What are the days for this event?\",\n",
    "        context=text\n",
    "    )\n",
    "    score = round(preds['score'], 2)\n",
    "    answer = preds['answer']\n",
    "    # Remoe second date from date ranges (just want to know when it starts)\n",
    "    single_date = re.sub(\"-\\d*(?=\\s|,)\", \"\", answer)\n",
    "    # Get datetime object from text representation\n",
    "    date = dateparser.parse(date_string=single_date, languages=[\"en\"], settings={'PREFER_DATES_FROM': 'future'})\n",
    "    return (answer, date, score)\n",
    "    #return (answer, score)\n",
    "\n",
    "print(test)\n",
    "print(classify_event(test))\n",
    "print(extract_date(test))\n",
    "\n",
    "#print(\"NAs in category row: %d\" % sum(oldtime_events[\"category\"].isna()))"
   ]
  },
  {
   "cell_type": "code",
   "execution_count": 182,
   "metadata": {},
   "outputs": [],
   "source": [
    "#d = nlp(\"2nd Sunday's - Sept thru May\")\n",
    "d = nlp(\"every monday on the clock\")\n",
    "for ent in d.ents:\n",
    "    print (ent, ent.label_)\n"
   ]
  },
  {
   "cell_type": "code",
   "execution_count": null,
   "metadata": {},
   "outputs": [],
   "source": [
    "# Create new folium map\n",
    "m = folium.Map(location=[47.116386, -101.299591], zoom_start = 4)\n",
    "\n",
    "# Create feature groups\n",
    "jam_fg = folium.FeatureGroup(name=\"Jams\")\n",
    "festivals_fg = folium.FeatureGroup(name=\"Festivals / Camps\")\n",
    "\n",
    "# Create markers for each category and add to feature groups - color code\n",
    "for i in range(oldtime_events.shape[0]):\n",
    "    geom = oldtime_events[\"geometry\"].iloc[i]\n",
    "    name = oldtime_events[\"Name\"].iloc[i]\n",
    "    desc = oldtime_events[\"Description\"].iloc[i]\n",
    "    if(oldtime_events[\"category\"].iloc[i] == \"jam\"):\n",
    "        marker = folium.Marker(location=[geom.y, geom.x], popup=desc, icon=folium.Icon(color=\"green\")).add_to(jam_fg)\n",
    "    elif(oldtime_events[\"category\"].iloc[i] == \"festival_or_camp\"):\n",
    "        marker = folium.Marker(location=[geom.y, geom.x], popup=desc, icon=folium.Icon(color=\"red\")).add_to(festivals_fg)\n",
    "\n",
    "# Add feature group to map\n",
    "jam_fg.add_to(m)\n",
    "festivals_fg.add_to(m)\n",
    "\n",
    "# Add layer control to map\n",
    "m.add_child(folium.map.LayerControl())"
   ]
  },
  {
   "cell_type": "code",
   "execution_count": null,
   "metadata": {},
   "outputs": [],
   "source": [
    "Geocoder().add_to(m)\n",
    "m"
   ]
  },
  {
   "cell_type": "code",
   "execution_count": null,
   "metadata": {},
   "outputs": [],
   "source": [
    "#m.save(\"Old Time Gatherings.html\")"
   ]
  },
  {
   "cell_type": "code",
   "execution_count": null,
   "metadata": {},
   "outputs": [],
   "source": []
  }
 ],
 "metadata": {
  "kernelspec": {
   "display_name": "venv",
   "language": "python",
   "name": "python3"
  },
  "language_info": {
   "codemirror_mode": {
    "name": "ipython",
    "version": 3
   },
   "file_extension": ".py",
   "mimetype": "text/x-python",
   "name": "python",
   "nbconvert_exporter": "python",
   "pygments_lexer": "ipython3",
   "version": "3.9.13"
  },
  "orig_nbformat": 4
 },
 "nbformat": 4,
 "nbformat_minor": 2
}
